{
 "metadata": {
  "language_info": {
   "codemirror_mode": {
    "name": "ipython",
    "version": 3
   },
   "file_extension": ".py",
   "mimetype": "text/x-python",
   "name": "python",
   "nbconvert_exporter": "python",
   "pygments_lexer": "ipython3",
   "version": "3.7.6-final"
  },
  "orig_nbformat": 2,
  "kernelspec": {
   "name": "python3",
   "display_name": "Python 3"
  }
 },
 "nbformat": 4,
 "nbformat_minor": 2,
 "cells": [
  {
   "cell_type": "code",
   "execution_count": 136,
   "metadata": {},
   "outputs": [],
   "source": [
    "env = [{0: ( 10, True ), 1: (  5, False), 2: (-10, False), 3: (-10, False), 4: (-10, False), \n",
    "        5: (-10, False), 6: (-10, False), 7: (-10, False), 8: (-10, False), 9: (-10, False)},\n",
    "       {0: (-10, False), 1: ( 10, True ), 2: (  5, False), 3: (-10, False), 4: (-10, False), \n",
    "        5: (-10, False), 6: (-10, False), 7: (-10, False), 8: (-10, False), 9: (-10, False)},\n",
    "       {0: (-10, False), 1: (-10, False), 2: ( 10, True ), 3: (  5, False), 4: (-10, False), \n",
    "        5: (-10, False), 6: (-10, False), 7: (-10, False), 8: (-10, False), 9: (-10, False)},\n",
    "       {0: (-10, False), 1: (-10, False), 2: (-10, False), 3: ( 10, True ), 4: (  5, False), \n",
    "        5: (-10, False), 6: (-10, False), 7: (-10, False), 8: (-10, False), 9: (-10, False)},\n",
    "       {0: (-10, False), 1: (-10, False), 2: (-10, False), 3: (-10, False), 4: ( 10, True ),\n",
    "        5: (  5, False), 6: (-10, False), 7: (-10, False), 8: (-10, False), 9: (-10, False)},\n",
    "       {0: (-10, False), 1: (-10, False), 2: (-10, False), 3: (-10, False), 4: (-10, False), \n",
    "        5: ( 10, True ), 6: (  5, False), 7: (-10, False), 8: (-10, False), 9: (-10, False)},\n",
    "       {0: (-10, False), 1: (-10, False), 2: (-10, False), 3: (-10, False), 4: (-10, False),\n",
    "        5: (-10, False), 6: ( 10, True ), 7: (  5, False), 8: (-10, False), 9: (-10, False)},\n",
    "       {0: (-10, False), 1: (-10, False), 2: (-10, False), 3: (-10, False), 4: (-10, False),\n",
    "        5: (-10, False), 6: (-10, False), 7: ( 10, True ), 8: (  5, False), 9: (-10, False)},\n",
    "       {0: (-10, False), 1: (-10, False), 2: (-10, False), 3: (-10, False), 4: (-10, False),\n",
    "        5: (-10, False), 6: (-10, False), 7: (-10, False), 8: ( 10, True ), 9: (  5, False)},\n",
    "       {0: (  5, False), 1: (-10, False), 2: (-10, False), 3: (-10, False), 4: (-10, False),\n",
    "        5: (-10, False), 6: (-10, False), 7: (-10, False), 8: (-10, False), 9: ( 10, True )}\n",
    "      ]"
   ]
  },
  {
   "cell_type": "code",
   "execution_count": 137,
   "metadata": {},
   "outputs": [
    {
     "output_type": "stream",
     "name": "stdout",
     "text": [
      "(-10, False)\n"
     ]
    }
   ],
   "source": [
    "print( env[1][0] )"
   ]
  },
  {
   "cell_type": "code",
   "execution_count": 238,
   "metadata": {},
   "outputs": [
    {
     "output_type": "stream",
     "name": "stdout",
     "text": [
      "[[0. 0. 0. 0. 0. 0. 0. 0. 0. 0.]\n [0. 0. 0. 0. 0. 0. 0. 0. 0. 0.]\n [0. 0. 0. 0. 0. 0. 0. 0. 0. 0.]\n [0. 0. 0. 0. 0. 0. 0. 0. 0. 0.]\n [0. 0. 0. 0. 0. 0. 0. 0. 0. 0.]\n [0. 0. 0. 0. 0. 0. 0. 0. 0. 0.]\n [0. 0. 0. 0. 0. 0. 0. 0. 0. 0.]\n [0. 0. 0. 0. 0. 0. 0. 0. 0. 0.]\n [0. 0. 0. 0. 0. 0. 0. 0. 0. 0.]\n [0. 0. 0. 0. 0. 0. 0. 0. 0. 0.]]\n"
     ]
    }
   ],
   "source": [
    "import numpy as np\n",
    "q_table = np.zeros([10, 10])\n",
    "\n",
    "import random\n",
    "from IPython.display import clear_output\n",
    "print(q_table)"
   ]
  },
  {
   "cell_type": "code",
   "execution_count": 239,
   "metadata": {
    "tags": []
   },
   "outputs": [
    {
     "output_type": "stream",
     "name": "stdout",
     "text": [
      "Training: 150000\nTraining finished.\n\nWall time: 4.83 s\n"
     ]
    }
   ],
   "source": [
    "%%time\n",
    "\n",
    "import random\n",
    "from IPython.display import clear_output\n",
    "\n",
    "\"\"\"Let's train the algorithm!\"\"\"\n",
    "\n",
    "# Parameters to compound how important is each test during the training phase\n",
    "l_rate   = 0.25 # learning rate\n",
    "w_import = 0.75 # how important it is for future rewards. Lower values, short term decisions. Higher, long-term \n",
    "r_select = 0.25 # aprox. 20% of actions will be randomly selected\n",
    "\n",
    "for i in range(1, 150001):\n",
    "    r_state = random.randrange(0,9,1) # Rows of our environment (clients)\n",
    "    r_ok = False\n",
    "    \n",
    "    while not r_ok:\n",
    "        if random.uniform(0, 1) < r_select:\n",
    "            r_act = random.randrange(0,10,1)     # Try randomly a path on the environment Columns (products)\n",
    "        else:\n",
    "            r_act = np.argmax(q_table[r_state]) # Selecting the best action based on learned values\n",
    "        \n",
    "        r_reward, r_ok = env[r_state][r_act] \n",
    "        \n",
    "        o_measu = q_table[r_state, r_act]\n",
    "        n_state = (r_state + 1 if r_state + 1 < 10 else 0) # Just using a valid range\n",
    "        n_maxim = np.max(q_table[r_state])\n",
    "        \n",
    "        n_eval  = ((1 - l_rate) * o_measu) + (l_rate * (r_reward + w_import * n_maxim))\n",
    "        q_table[r_state, r_act] = n_eval\n",
    "\n",
    "        r_state = n_state\n",
    "        \n",
    "    if i % 100 == 0:\n",
    "        clear_output(wait=True)\n",
    "        print(f\"Training: {i}\")\n",
    "\n",
    "print(\"Training finished.\\n\")"
   ]
  },
  {
   "cell_type": "code",
   "execution_count": 240,
   "metadata": {},
   "outputs": [
    {
     "output_type": "stream",
     "name": "stdout",
     "text": [
      "[[40. 35. 20. 20. 20. 20. 20. 20. 20. 20.]\n [20. 40. 35. 20. 20. 20. 20. 20. 20. 20.]\n [20. 20. 40. 35. 20. 20. 20. 20. 20. 20.]\n [20. 20. 20. 40. 35. 20. 20. 20. 20. 20.]\n [20. 20. 20. 20. 40. 35. 20. 20. 20. 20.]\n [20. 20. 20. 20. 20. 40. 35. 20. 20. 20.]\n [20. 20. 20. 20. 20. 20. 40. 35. 20. 20.]\n [20. 20. 20. 20. 20. 20. 20. 40. 35. 20.]\n [20. 20. 20. 20. 20. 20. 20. 20. 40. 35.]\n [35. 20. 20. 20. 20. 20. 20. 20. 20. 40.]]\n"
     ]
    }
   ],
   "source": [
    "print(q_table)"
   ]
  },
  {
   "cell_type": "code",
   "execution_count": 243,
   "metadata": {
    "tags": []
   },
   "outputs": [
    {
     "output_type": "stream",
     "name": "stdout",
     "text": [
      "I made 0 wrong suggestions after 1000.\n"
     ]
    }
   ],
   "source": [
    "\"\"\"Testing with Random Customers\"\"\"\n",
    "\n",
    "r_wrong   = 0\n",
    "tentative = 1000\n",
    "\n",
    "for _ in range(tentative):\n",
    "    r_state = random.randrange(0,9,1)\n",
    "    r_reward = 0\n",
    "    \n",
    "    r_ok = False\n",
    "    \n",
    "    while not r_ok:\n",
    "        r_act = np.argmax(q_table[r_state])\n",
    "        r_reward, r_ok = env[r_state][r_act]\n",
    "\n",
    "        if r_reward == -10:\n",
    "            r_wrong += 1\n",
    "\n",
    "\n",
    "print(f\"I made {r_wrong} wrong suggestions after {tentative}.\")"
   ]
  },
  {
   "cell_type": "code",
   "execution_count": null,
   "metadata": {},
   "outputs": [],
   "source": []
  }
 ]
}